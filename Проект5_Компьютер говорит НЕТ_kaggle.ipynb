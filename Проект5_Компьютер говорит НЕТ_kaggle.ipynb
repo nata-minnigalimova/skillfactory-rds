{
 "cells": [
  {
   "cell_type": "markdown",
   "metadata": {},
   "source": [
    "### Импорт библиотек"
   ]
  },
  {
   "cell_type": "code",
   "execution_count": 1,
   "metadata": {},
   "outputs": [],
   "source": [
    "import pandas as pd\n",
    "import numpy as np\n",
    "\n",
    "\n",
    "import matplotlib.pyplot as plt\n",
    "%matplotlib inline\n",
    "import seaborn as sns\n",
    "\n",
    "from sklearn.feature_selection import f_classif, mutual_info_classif\n",
    "from sklearn.preprocessing import LabelEncoder, OneHotEncoder, StandardScaler\n",
    "\n",
    "from sklearn.model_selection import train_test_split\n",
    "from sklearn.linear_model import LogisticRegression\n",
    "from sklearn.model_selection import GridSearchCV, RandomizedSearchCV\n",
    "\n",
    "\n",
    "from sklearn.metrics import confusion_matrix\n",
    "from sklearn.metrics import auc, roc_auc_score, roc_curve\n",
    "\n",
    "!pip freeze > requirements.txt"
   ]
  },
  {
   "cell_type": "markdown",
   "metadata": {},
   "source": [
    "### Загрузка датасетов"
   ]
  },
  {
   "cell_type": "code",
   "execution_count": 2,
   "metadata": {},
   "outputs": [],
   "source": [
    "import os\n",
    "for dirname, _, filenames in os.walk('/kaggle/input'):\n",
    "    for filename in filenames:\n",
    "        print(os.path.join(dirname, filename))"
   ]
  },
  {
   "cell_type": "markdown",
   "metadata": {},
   "source": [
    "### Чтение файла из ноутбука"
   ]
  },
  {
   "cell_type": "code",
   "execution_count": 3,
   "metadata": {},
   "outputs": [],
   "source": [
    "df_train = pd.read_csv('train.csv')\n",
    "df_test = pd.read_csv('test.csv')\n",
    "sample_submission = pd.read_csv('sample_submission.csv')"
   ]
  },
  {
   "cell_type": "markdown",
   "metadata": {},
   "source": [
    "#### Описание датасета train"
   ]
  },
  {
   "cell_type": "code",
   "execution_count": 4,
   "metadata": {},
   "outputs": [
    {
     "name": "stdout",
     "output_type": "stream",
     "text": [
      "<class 'pandas.core.frame.DataFrame'>\n",
      "RangeIndex: 73799 entries, 0 to 73798\n",
      "Data columns (total 19 columns):\n",
      " #   Column            Non-Null Count  Dtype  \n",
      "---  ------            --------------  -----  \n",
      " 0   client_id         73799 non-null  int64  \n",
      " 1   app_date          73799 non-null  object \n",
      " 2   education         73492 non-null  object \n",
      " 3   sex               73799 non-null  object \n",
      " 4   age               73799 non-null  int64  \n",
      " 5   car               73799 non-null  object \n",
      " 6   car_type          73799 non-null  object \n",
      " 7   decline_app_cnt   73799 non-null  int64  \n",
      " 8   good_work         73799 non-null  int64  \n",
      " 9   score_bki         73799 non-null  float64\n",
      " 10  bki_request_cnt   73799 non-null  int64  \n",
      " 11  region_rating     73799 non-null  int64  \n",
      " 12  home_address      73799 non-null  int64  \n",
      " 13  work_address      73799 non-null  int64  \n",
      " 14  income            73799 non-null  int64  \n",
      " 15  sna               73799 non-null  int64  \n",
      " 16  first_time        73799 non-null  int64  \n",
      " 17  foreign_passport  73799 non-null  object \n",
      " 18  default           73799 non-null  int64  \n",
      "dtypes: float64(1), int64(12), object(6)\n",
      "memory usage: 10.7+ MB\n"
     ]
    }
   ],
   "source": [
    "df_train.info()"
   ]
  },
  {
   "cell_type": "markdown",
   "metadata": {},
   "source": [
    "#### Описание датасета test"
   ]
  },
  {
   "cell_type": "code",
   "execution_count": 5,
   "metadata": {},
   "outputs": [
    {
     "name": "stdout",
     "output_type": "stream",
     "text": [
      "<class 'pandas.core.frame.DataFrame'>\n",
      "RangeIndex: 36349 entries, 0 to 36348\n",
      "Data columns (total 18 columns):\n",
      " #   Column            Non-Null Count  Dtype  \n",
      "---  ------            --------------  -----  \n",
      " 0   client_id         36349 non-null  int64  \n",
      " 1   app_date          36349 non-null  object \n",
      " 2   education         36178 non-null  object \n",
      " 3   sex               36349 non-null  object \n",
      " 4   age               36349 non-null  int64  \n",
      " 5   car               36349 non-null  object \n",
      " 6   car_type          36349 non-null  object \n",
      " 7   decline_app_cnt   36349 non-null  int64  \n",
      " 8   good_work         36349 non-null  int64  \n",
      " 9   score_bki         36349 non-null  float64\n",
      " 10  bki_request_cnt   36349 non-null  int64  \n",
      " 11  region_rating     36349 non-null  int64  \n",
      " 12  home_address      36349 non-null  int64  \n",
      " 13  work_address      36349 non-null  int64  \n",
      " 14  income            36349 non-null  int64  \n",
      " 15  sna               36349 non-null  int64  \n",
      " 16  first_time        36349 non-null  int64  \n",
      " 17  foreign_passport  36349 non-null  object \n",
      "dtypes: float64(1), int64(11), object(6)\n",
      "memory usage: 5.0+ MB\n"
     ]
    }
   ],
   "source": [
    "df_test.info()"
   ]
  },
  {
   "cell_type": "markdown",
   "metadata": {},
   "source": [
    "#### Описание полей"
   ]
  },
  {
   "cell_type": "markdown",
   "metadata": {},
   "source": [
    "client_id - идентификатор клиента\n",
    "\n",
    "education - уровень образования\n",
    "\n",
    "sex - пол заемщика\n",
    "\n",
    "age - возраст заемщика\n",
    "\n",
    "car - флаг наличия автомобиля\n",
    "\n",
    "car_type - флаг автомобиля иномарки\n",
    "\n",
    "decline_app_cnt - количество отказанных прошлых заявок\n",
    "\n",
    "good_work - флаг наличия “хорошей” работы\n",
    "\n",
    "bki_request_cnt - количество запросов в БКИ\n",
    "\n",
    "home_address - категоризатор домашнего адреса\n",
    "\n",
    "work_address - категоризатор рабочего адреса\n",
    "\n",
    "income - доход заемщика\n",
    "\n",
    "foreign_passport - наличие загранпаспорта\n",
    "\n",
    "sna - связь заемщика с клиентами банка\n",
    "\n",
    "first_time - давность наличия информации о заемщике\n",
    "\n",
    "score_bki - скоринговый балл по данным из БКИ\n",
    "\n",
    "region_rating - рейтинг региона\n",
    "\n",
    "app_date - дата подачи заявки\n",
    "\n",
    "default - флаг дефолта по кредиту (target)"
   ]
  },
  {
   "cell_type": "markdown",
   "metadata": {},
   "source": [
    "#### Описание датасета sample_submission"
   ]
  },
  {
   "cell_type": "code",
   "execution_count": 6,
   "metadata": {},
   "outputs": [
    {
     "data": {
      "text/plain": [
       "(24354, 2)"
      ]
     },
     "execution_count": 6,
     "metadata": {},
     "output_type": "execute_result"
    }
   ],
   "source": [
    "sample_submission.shape"
   ]
  },
  {
   "cell_type": "code",
   "execution_count": 7,
   "metadata": {},
   "outputs": [
    {
     "data": {
      "text/plain": [
       "(36349, 18)"
      ]
     },
     "execution_count": 7,
     "metadata": {},
     "output_type": "execute_result"
    }
   ],
   "source": [
    "df_test.shape"
   ]
  },
  {
   "cell_type": "markdown",
   "metadata": {},
   "source": [
    "Количество строк в test не соответствует количеству строк в sample_submission."
   ]
  },
  {
   "cell_type": "markdown",
   "metadata": {},
   "source": [
    "### Разметка и объединение датасетов"
   ]
  },
  {
   "cell_type": "code",
   "execution_count": 8,
   "metadata": {},
   "outputs": [
    {
     "data": {
      "text/html": [
       "<div>\n",
       "<style scoped>\n",
       "    .dataframe tbody tr th:only-of-type {\n",
       "        vertical-align: middle;\n",
       "    }\n",
       "\n",
       "    .dataframe tbody tr th {\n",
       "        vertical-align: top;\n",
       "    }\n",
       "\n",
       "    .dataframe thead th {\n",
       "        text-align: right;\n",
       "    }\n",
       "</style>\n",
       "<table border=\"1\" class=\"dataframe\">\n",
       "  <thead>\n",
       "    <tr style=\"text-align: right;\">\n",
       "      <th></th>\n",
       "      <th>client_id</th>\n",
       "      <th>app_date</th>\n",
       "      <th>education</th>\n",
       "      <th>sex</th>\n",
       "      <th>age</th>\n",
       "      <th>car</th>\n",
       "      <th>car_type</th>\n",
       "      <th>decline_app_cnt</th>\n",
       "      <th>good_work</th>\n",
       "      <th>score_bki</th>\n",
       "      <th>bki_request_cnt</th>\n",
       "      <th>region_rating</th>\n",
       "      <th>home_address</th>\n",
       "      <th>work_address</th>\n",
       "      <th>income</th>\n",
       "      <th>sna</th>\n",
       "      <th>first_time</th>\n",
       "      <th>foreign_passport</th>\n",
       "      <th>default</th>\n",
       "      <th>is_test</th>\n",
       "    </tr>\n",
       "  </thead>\n",
       "  <tbody>\n",
       "    <tr>\n",
       "      <th>5692</th>\n",
       "      <td>28883</td>\n",
       "      <td>04FEB2014</td>\n",
       "      <td>SCH</td>\n",
       "      <td>M</td>\n",
       "      <td>37</td>\n",
       "      <td>Y</td>\n",
       "      <td>Y</td>\n",
       "      <td>0</td>\n",
       "      <td>0</td>\n",
       "      <td>-1.666530</td>\n",
       "      <td>0</td>\n",
       "      <td>40</td>\n",
       "      <td>1</td>\n",
       "      <td>2</td>\n",
       "      <td>25000</td>\n",
       "      <td>4</td>\n",
       "      <td>3</td>\n",
       "      <td>N</td>\n",
       "      <td>0.0</td>\n",
       "      <td>0</td>\n",
       "    </tr>\n",
       "    <tr>\n",
       "      <th>3324</th>\n",
       "      <td>61228</td>\n",
       "      <td>10MAR2014</td>\n",
       "      <td>SCH</td>\n",
       "      <td>F</td>\n",
       "      <td>55</td>\n",
       "      <td>N</td>\n",
       "      <td>N</td>\n",
       "      <td>0</td>\n",
       "      <td>0</td>\n",
       "      <td>-1.446942</td>\n",
       "      <td>5</td>\n",
       "      <td>50</td>\n",
       "      <td>1</td>\n",
       "      <td>1</td>\n",
       "      <td>37000</td>\n",
       "      <td>2</td>\n",
       "      <td>3</td>\n",
       "      <td>N</td>\n",
       "      <td>0.0</td>\n",
       "      <td>0</td>\n",
       "    </tr>\n",
       "    <tr>\n",
       "      <th>29798</th>\n",
       "      <td>78998</td>\n",
       "      <td>27MAR2014</td>\n",
       "      <td>SCH</td>\n",
       "      <td>F</td>\n",
       "      <td>50</td>\n",
       "      <td>Y</td>\n",
       "      <td>Y</td>\n",
       "      <td>0</td>\n",
       "      <td>0</td>\n",
       "      <td>-1.789205</td>\n",
       "      <td>1</td>\n",
       "      <td>60</td>\n",
       "      <td>1</td>\n",
       "      <td>3</td>\n",
       "      <td>40000</td>\n",
       "      <td>1</td>\n",
       "      <td>4</td>\n",
       "      <td>N</td>\n",
       "      <td>0.0</td>\n",
       "      <td>0</td>\n",
       "    </tr>\n",
       "    <tr>\n",
       "      <th>16170</th>\n",
       "      <td>30992</td>\n",
       "      <td>06FEB2014</td>\n",
       "      <td>SCH</td>\n",
       "      <td>F</td>\n",
       "      <td>55</td>\n",
       "      <td>N</td>\n",
       "      <td>N</td>\n",
       "      <td>0</td>\n",
       "      <td>0</td>\n",
       "      <td>-2.258116</td>\n",
       "      <td>0</td>\n",
       "      <td>50</td>\n",
       "      <td>1</td>\n",
       "      <td>2</td>\n",
       "      <td>40000</td>\n",
       "      <td>1</td>\n",
       "      <td>3</td>\n",
       "      <td>N</td>\n",
       "      <td>0.0</td>\n",
       "      <td>0</td>\n",
       "    </tr>\n",
       "    <tr>\n",
       "      <th>76525</th>\n",
       "      <td>17069</td>\n",
       "      <td>24JAN2014</td>\n",
       "      <td>SCH</td>\n",
       "      <td>M</td>\n",
       "      <td>63</td>\n",
       "      <td>N</td>\n",
       "      <td>N</td>\n",
       "      <td>0</td>\n",
       "      <td>0</td>\n",
       "      <td>-1.935707</td>\n",
       "      <td>0</td>\n",
       "      <td>50</td>\n",
       "      <td>1</td>\n",
       "      <td>2</td>\n",
       "      <td>10000</td>\n",
       "      <td>1</td>\n",
       "      <td>1</td>\n",
       "      <td>N</td>\n",
       "      <td>NaN</td>\n",
       "      <td>1</td>\n",
       "    </tr>\n",
       "    <tr>\n",
       "      <th>53570</th>\n",
       "      <td>71520</td>\n",
       "      <td>19MAR2014</td>\n",
       "      <td>GRD</td>\n",
       "      <td>M</td>\n",
       "      <td>29</td>\n",
       "      <td>N</td>\n",
       "      <td>N</td>\n",
       "      <td>0</td>\n",
       "      <td>0</td>\n",
       "      <td>-1.715501</td>\n",
       "      <td>0</td>\n",
       "      <td>40</td>\n",
       "      <td>2</td>\n",
       "      <td>3</td>\n",
       "      <td>90000</td>\n",
       "      <td>1</td>\n",
       "      <td>4</td>\n",
       "      <td>N</td>\n",
       "      <td>0.0</td>\n",
       "      <td>0</td>\n",
       "    </tr>\n",
       "    <tr>\n",
       "      <th>103415</th>\n",
       "      <td>105875</td>\n",
       "      <td>24APR2014</td>\n",
       "      <td>SCH</td>\n",
       "      <td>M</td>\n",
       "      <td>43</td>\n",
       "      <td>N</td>\n",
       "      <td>N</td>\n",
       "      <td>0</td>\n",
       "      <td>0</td>\n",
       "      <td>-1.528442</td>\n",
       "      <td>2</td>\n",
       "      <td>80</td>\n",
       "      <td>2</td>\n",
       "      <td>3</td>\n",
       "      <td>35000</td>\n",
       "      <td>1</td>\n",
       "      <td>4</td>\n",
       "      <td>Y</td>\n",
       "      <td>NaN</td>\n",
       "      <td>1</td>\n",
       "    </tr>\n",
       "    <tr>\n",
       "      <th>18858</th>\n",
       "      <td>91407</td>\n",
       "      <td>07APR2014</td>\n",
       "      <td>GRD</td>\n",
       "      <td>F</td>\n",
       "      <td>30</td>\n",
       "      <td>N</td>\n",
       "      <td>N</td>\n",
       "      <td>0</td>\n",
       "      <td>0</td>\n",
       "      <td>-2.276264</td>\n",
       "      <td>0</td>\n",
       "      <td>60</td>\n",
       "      <td>2</td>\n",
       "      <td>3</td>\n",
       "      <td>50000</td>\n",
       "      <td>1</td>\n",
       "      <td>3</td>\n",
       "      <td>N</td>\n",
       "      <td>0.0</td>\n",
       "      <td>0</td>\n",
       "    </tr>\n",
       "    <tr>\n",
       "      <th>17324</th>\n",
       "      <td>36815</td>\n",
       "      <td>12FEB2014</td>\n",
       "      <td>PGR</td>\n",
       "      <td>M</td>\n",
       "      <td>34</td>\n",
       "      <td>Y</td>\n",
       "      <td>Y</td>\n",
       "      <td>0</td>\n",
       "      <td>0</td>\n",
       "      <td>-2.506849</td>\n",
       "      <td>1</td>\n",
       "      <td>80</td>\n",
       "      <td>2</td>\n",
       "      <td>3</td>\n",
       "      <td>300000</td>\n",
       "      <td>1</td>\n",
       "      <td>3</td>\n",
       "      <td>Y</td>\n",
       "      <td>0.0</td>\n",
       "      <td>0</td>\n",
       "    </tr>\n",
       "    <tr>\n",
       "      <th>14964</th>\n",
       "      <td>58155</td>\n",
       "      <td>06MAR2014</td>\n",
       "      <td>GRD</td>\n",
       "      <td>F</td>\n",
       "      <td>42</td>\n",
       "      <td>Y</td>\n",
       "      <td>Y</td>\n",
       "      <td>2</td>\n",
       "      <td>0</td>\n",
       "      <td>-1.545309</td>\n",
       "      <td>8</td>\n",
       "      <td>60</td>\n",
       "      <td>1</td>\n",
       "      <td>2</td>\n",
       "      <td>37000</td>\n",
       "      <td>1</td>\n",
       "      <td>3</td>\n",
       "      <td>N</td>\n",
       "      <td>0.0</td>\n",
       "      <td>0</td>\n",
       "    </tr>\n",
       "  </tbody>\n",
       "</table>\n",
       "</div>"
      ],
      "text/plain": [
       "        client_id   app_date education sex  age car car_type  decline_app_cnt  \\\n",
       "5692        28883  04FEB2014       SCH   M   37   Y        Y                0   \n",
       "3324        61228  10MAR2014       SCH   F   55   N        N                0   \n",
       "29798       78998  27MAR2014       SCH   F   50   Y        Y                0   \n",
       "16170       30992  06FEB2014       SCH   F   55   N        N                0   \n",
       "76525       17069  24JAN2014       SCH   M   63   N        N                0   \n",
       "53570       71520  19MAR2014       GRD   M   29   N        N                0   \n",
       "103415     105875  24APR2014       SCH   M   43   N        N                0   \n",
       "18858       91407  07APR2014       GRD   F   30   N        N                0   \n",
       "17324       36815  12FEB2014       PGR   M   34   Y        Y                0   \n",
       "14964       58155  06MAR2014       GRD   F   42   Y        Y                2   \n",
       "\n",
       "        good_work  score_bki  bki_request_cnt  region_rating  home_address  \\\n",
       "5692            0  -1.666530                0             40             1   \n",
       "3324            0  -1.446942                5             50             1   \n",
       "29798           0  -1.789205                1             60             1   \n",
       "16170           0  -2.258116                0             50             1   \n",
       "76525           0  -1.935707                0             50             1   \n",
       "53570           0  -1.715501                0             40             2   \n",
       "103415          0  -1.528442                2             80             2   \n",
       "18858           0  -2.276264                0             60             2   \n",
       "17324           0  -2.506849                1             80             2   \n",
       "14964           0  -1.545309                8             60             1   \n",
       "\n",
       "        work_address  income  sna  first_time foreign_passport  default  \\\n",
       "5692               2   25000    4           3                N      0.0   \n",
       "3324               1   37000    2           3                N      0.0   \n",
       "29798              3   40000    1           4                N      0.0   \n",
       "16170              2   40000    1           3                N      0.0   \n",
       "76525              2   10000    1           1                N      NaN   \n",
       "53570              3   90000    1           4                N      0.0   \n",
       "103415             3   35000    1           4                Y      NaN   \n",
       "18858              3   50000    1           3                N      0.0   \n",
       "17324              3  300000    1           3                Y      0.0   \n",
       "14964              2   37000    1           3                N      0.0   \n",
       "\n",
       "        is_test  \n",
       "5692          0  \n",
       "3324          0  \n",
       "29798         0  \n",
       "16170         0  \n",
       "76525         1  \n",
       "53570         0  \n",
       "103415        1  \n",
       "18858         0  \n",
       "17324         0  \n",
       "14964         0  "
      ]
     },
     "execution_count": 8,
     "metadata": {},
     "output_type": "execute_result"
    }
   ],
   "source": [
    "#Флаги для разметки исходных датасетов train и test\n",
    "df_train['is_test'] = 0\n",
    "df_test['is_test'] = 1\n",
    "\n",
    "#Конкатенация\n",
    "df = pd.concat([df_train, df_test]).reset_index(drop=True)\n",
    "\n",
    "#Просмотр датасета\n",
    "df.sample(10)"
   ]
  },
  {
   "cell_type": "code",
   "execution_count": 9,
   "metadata": {},
   "outputs": [
    {
     "data": {
      "text/plain": [
       "(110148, 20)"
      ]
     },
     "execution_count": 9,
     "metadata": {},
     "output_type": "execute_result"
    }
   ],
   "source": [
    "df.shape"
   ]
  },
  {
   "cell_type": "markdown",
   "metadata": {},
   "source": [
    "### Просмотр и заполнение пропусков"
   ]
  },
  {
   "cell_type": "code",
   "execution_count": 10,
   "metadata": {},
   "outputs": [
    {
     "data": {
      "text/plain": [
       "<matplotlib.axes._subplots.AxesSubplot at 0x2be1d9b7bc8>"
      ]
     },
     "execution_count": 10,
     "metadata": {},
     "output_type": "execute_result"
    },
    {
     "data": {
      "image/png": "[encoded data removed]",
      "text/plain": [
       "<Figure size 720x576 with 2 Axes>"
      ]
     },
     "metadata": {
      "needs_background": "light"
     },
     "output_type": "display_data"
    }
   ],
   "source": [
    "cols = df.columns \n",
    "plt.figure(figsize = (10,8))\n",
    "#серый - непропущенные данные\n",
    "#красный - пропуски\n",
    "colours = ['grey', 'red'] \n",
    "sns.heatmap(df[cols].isnull(), cmap=sns.color_palette(colours))"
   ]
  },
  {
   "cell_type": "markdown",
   "metadata": {},
   "source": [
    "Есть минимальные пропуски в поле education, их можно заполнить наиболее часто встречающимся значением."
   ]
  },
  {
   "cell_type": "code",
   "execution_count": 11,
   "metadata": {},
   "outputs": [
    {
     "name": "stderr",
     "output_type": "stream",
     "text": [
      "C:\\Users\\Nataly\\anaconda3\\lib\\site-packages\\ipykernel_launcher.py:1: SettingWithCopyWarning: \n",
      "A value is trying to be set on a copy of a slice from a DataFrame\n",
      "\n",
      "See the caveats in the documentation: https://pandas.pydata.org/pandas-docs/stable/user_guide/indexing.html#returning-a-view-versus-a-copy\n",
      "  \"\"\"Entry point for launching an IPython kernel.\n"
     ]
    }
   ],
   "source": [
    "df.education[df.education.isna()] = df.education.mode()[0]"
   ]
  },
  {
   "cell_type": "code",
   "execution_count": 12,
   "metadata": {},
   "outputs": [
    {
     "data": {
      "text/plain": [
       "client_id               0\n",
       "app_date                0\n",
       "education               0\n",
       "sex                     0\n",
       "age                     0\n",
       "car                     0\n",
       "car_type                0\n",
       "decline_app_cnt         0\n",
       "good_work               0\n",
       "score_bki               0\n",
       "bki_request_cnt         0\n",
       "region_rating           0\n",
       "home_address            0\n",
       "work_address            0\n",
       "income                  0\n",
       "sna                     0\n",
       "first_time              0\n",
       "foreign_passport        0\n",
       "default             36349\n",
       "is_test                 0\n",
       "dtype: int64"
      ]
     },
     "execution_count": 12,
     "metadata": {},
     "output_type": "execute_result"
    }
   ],
   "source": [
    "#Проверка заполнения\n",
    "df.isna().sum()"
   ]
  },
  {
   "cell_type": "markdown",
   "metadata": {},
   "source": [
    "### Обработка даты"
   ]
  },
  {
   "cell_type": "code",
   "execution_count": 13,
   "metadata": {},
   "outputs": [
    {
     "data": {
      "text/plain": [
       "2014    110148\n",
       "Name: app_date, dtype: int64"
      ]
     },
     "execution_count": 13,
     "metadata": {},
     "output_type": "execute_result"
    }
   ],
   "source": [
    "df.app_date = pd.to_datetime(df.app_date)\n",
    "df.app_date.dt.year.value_counts()"
   ]
  },
  {
   "cell_type": "code",
   "execution_count": 14,
   "metadata": {},
   "outputs": [
    {
     "data": {
      "text/plain": [
       "3    31597\n",
       "2    27097\n",
       "4    26266\n",
       "1    25188\n",
       "Name: app_date, dtype: int64"
      ]
     },
     "execution_count": 14,
     "metadata": {},
     "output_type": "execute_result"
    }
   ],
   "source": [
    "df.app_date.dt.month.value_counts()"
   ]
  },
  {
   "cell_type": "code",
   "execution_count": 15,
   "metadata": {},
   "outputs": [
    {
     "data": {
      "text/plain": [
       "3    10419\n",
       "2     9069\n",
       "4     8583\n",
       "1     8278\n",
       "Name: app_date, dtype: int64"
      ]
     },
     "execution_count": 15,
     "metadata": {},
     "output_type": "execute_result"
    }
   ],
   "source": [
    "df[df.is_test==1].app_date.dt.month.value_counts()"
   ]
  },
  {
   "cell_type": "code",
   "execution_count": 16,
   "metadata": {},
   "outputs": [
    {
     "data": {
      "text/plain": [
       "3    21178\n",
       "2    18028\n",
       "4    17683\n",
       "1    16910\n",
       "Name: app_date, dtype: int64"
      ]
     },
     "execution_count": 16,
     "metadata": {},
     "output_type": "execute_result"
    }
   ],
   "source": [
    "df[df.is_test==0].app_date.dt.month.value_counts()"
   ]
  },
  {
   "cell_type": "markdown",
   "metadata": {},
   "source": [
    "Все данные относятся к 2014 году, запросы были сделаны в январе - апреле, распределение данных в тестовой и тренировочной выборках примерно одинаковое. Максимальное количество приходится на март."
   ]
  },
  {
   "cell_type": "markdown",
   "metadata": {},
   "source": [
    "### Создание новых признаков"
   ]
  },
  {
   "cell_type": "code",
   "execution_count": 17,
   "metadata": {},
   "outputs": [
    {
     "data": {
      "text/plain": [
       "1    18180\n",
       "0    17858\n",
       "2    17581\n",
       "3    17421\n",
       "4    16749\n",
       "5    12202\n",
       "6    10157\n",
       "Name: app_weekday, dtype: int64"
      ]
     },
     "execution_count": 17,
     "metadata": {},
     "output_type": "execute_result"
    }
   ],
   "source": [
    "#Определим день подачи заявки\n",
    "df['app_weekday'] = df.app_date.dt.weekday\n",
    "df.app_weekday.value_counts()"
   ]
  },
  {
   "cell_type": "code",
   "execution_count": 18,
   "metadata": {},
   "outputs": [
    {
     "data": {
      "text/plain": [
       "<matplotlib.axes._subplots.AxesSubplot at 0x2be1e9e3708>"
      ]
     },
     "execution_count": 18,
     "metadata": {},
     "output_type": "execute_result"
    },
    {
     "data": {
      "image/png": "[encoded data removed]",
      "text/plain": [
       "<Figure size 432x288 with 1 Axes>"
      ]
     },
     "metadata": {
      "needs_background": "light"
     },
     "output_type": "display_data"
    }
   ],
   "source": [
    "df['app_weekday'].value_counts().plot.barh(color = 'purple')"
   ]
  },
  {
   "cell_type": "markdown",
   "metadata": {},
   "source": [
    "В выходные дни делается наименьшее количество зявок, они примерно одинаково распределены по будним дням."
   ]
  },
  {
   "cell_type": "code",
   "execution_count": 19,
   "metadata": {},
   "outputs": [],
   "source": [
    "#Распределим заявки по числам\n",
    "#Преобразование даты в число\n",
    "df.app_date = df.app_date.dt.strftime('%m%d').astype('int64')\n",
    "\n",
    "#Количество заявок в день\n",
    "apps_per_date = df.app_date.value_counts()\n",
    "df['apps_per_day'] = df.app_date.map(apps_per_date)"
   ]
  },
  {
   "cell_type": "markdown",
   "metadata": {},
   "source": [
    "### Группировка и обработка признаков"
   ]
  },
  {
   "cell_type": "code",
   "execution_count": 20,
   "metadata": {},
   "outputs": [],
   "source": [
    "#Бинарные\n",
    "bin_cols = ['sex', 'car', 'car_type', 'good_work', 'foreign_passport']\n",
    "\n",
    "#Категориальные\n",
    "cat_cols = ['education', 'home_address', 'work_address',\n",
    "        'sna', 'first_time',\n",
    "            'app_weekday'\n",
    "           ]\n",
    "\n",
    "#Числовые\n",
    "num_cols = ['app_date', 'age', 'decline_app_cnt', 'score_bki',\n",
    "        'bki_request_cnt', 'region_rating', 'income',\n",
    "            'apps_per_day'\n",
    "           ]"
   ]
  },
  {
   "cell_type": "markdown",
   "metadata": {},
   "source": [
    "#### Числовые признаки"
   ]
  },
  {
   "cell_type": "code",
   "execution_count": 49,
   "metadata": {},
   "outputs": [
    {
     "data": {
      "image/png": "[encoded data removed]",
      "text/plain": [
       "<Figure size 1800x720 with 9 Axes>"
      ]
     },
     "metadata": {
      "needs_background": "light"
     },
     "output_type": "display_data"
    }
   ],
   "source": [
    "df[df.is_test == 0][num_cols].hist(figsize=(25,10),bins=100, color='#A5F5A3');"
   ]
  },
  {
   "cell_type": "code",
   "execution_count": 22,
   "metadata": {},
   "outputs": [
    {
     "data": {
      "image/png": "[encoded data removed]",
      "text/plain": [
       "<Figure size 1800x720 with 9 Axes>"
      ]
     },
     "metadata": {
      "needs_background": "light"
     },
     "output_type": "display_data"
    }
   ],
   "source": [
    "df[df.is_test == 1][num_cols].hist(figsize=(25,10),bins=100, color='grey');"
   ]
  },
  {
   "cell_type": "markdown",
   "metadata": {},
   "source": [
    "В тестовой и тренировочной выборках распределение признаков схожее. Часть признаков распределено неравномерно, логарифмируем их."
   ]
  },
  {
   "cell_type": "code",
   "execution_count": 23,
   "metadata": {},
   "outputs": [],
   "source": [
    "#Список признаков для логарифмирования\n",
    "num_cols_log = ['age', 'apps_per_day', 'bki_request_cnt', 'decline_app_cnt', 'income']\n",
    "for i in [num_cols_log]:\n",
    "    df[i] = np.log(df[i]+1)"
   ]
  },
  {
   "cell_type": "code",
   "execution_count": 24,
   "metadata": {},
   "outputs": [
    {
     "data": {
      "image/png": "[encoded data removed]",
      "text/plain": [
       "<Figure size 1800x720 with 9 Axes>"
      ]
     },
     "metadata": {
      "needs_background": "light"
     },
     "output_type": "display_data"
    }
   ],
   "source": [
    "#Проверка распределения\n",
    "df[num_cols].hist(figsize=(25,10),bins=100, color='grey');\n"
   ]
  },
  {
   "cell_type": "markdown",
   "metadata": {},
   "source": [
    "Сейчас распределение некотрых признаков выглядит более нормальным, особенно это удалось с income."
   ]
  },
  {
   "cell_type": "code",
   "execution_count": 25,
   "metadata": {},
   "outputs": [
    {
     "data": {
      "text/plain": [
       "<matplotlib.axes._subplots.AxesSubplot at 0x2be21b6bd88>"
      ]
     },
     "execution_count": 25,
     "metadata": {},
     "output_type": "execute_result"
    },
    {
     "data": {
      "image/png": "[encoded data removed]",
      "text/plain": [
       "<Figure size 720x576 with 2 Axes>"
      ]
     },
     "metadata": {
      "needs_background": "light"
     },
     "output_type": "display_data"
    }
   ],
   "source": [
    "#Корреляция числовых признаков\n",
    "plt.figure(figsize = (10,8))\n",
    "sns.heatmap(df[num_cols].corr().abs(), annot = True, vmin=0, vmax=1)"
   ]
  },
  {
   "cell_type": "markdown",
   "metadata": {},
   "source": [
    "Корреляции незначительны, больше всего сопряжены доход и рейтинг региона."
   ]
  },
  {
   "cell_type": "code",
   "execution_count": 26,
   "metadata": {},
   "outputs": [
    {
     "data": {
      "text/html": [
       "<div>\n",
       "<style scoped>\n",
       "    .dataframe tbody tr th:only-of-type {\n",
       "        vertical-align: middle;\n",
       "    }\n",
       "\n",
       "    .dataframe tbody tr th {\n",
       "        vertical-align: top;\n",
       "    }\n",
       "\n",
       "    .dataframe thead th {\n",
       "        text-align: right;\n",
       "    }\n",
       "</style>\n",
       "<table border=\"1\" class=\"dataframe\">\n",
       "  <thead>\n",
       "    <tr style=\"text-align: right;\">\n",
       "      <th></th>\n",
       "      <th>app_date</th>\n",
       "      <th>age</th>\n",
       "      <th>decline_app_cnt</th>\n",
       "      <th>score_bki</th>\n",
       "      <th>bki_request_cnt</th>\n",
       "      <th>region_rating</th>\n",
       "      <th>income</th>\n",
       "      <th>apps_per_day</th>\n",
       "    </tr>\n",
       "  </thead>\n",
       "  <tbody>\n",
       "    <tr>\n",
       "      <th>count</th>\n",
       "      <td>1.101480e+05</td>\n",
       "      <td>1.101480e+05</td>\n",
       "      <td>1.101480e+05</td>\n",
       "      <td>1.101480e+05</td>\n",
       "      <td>1.101480e+05</td>\n",
       "      <td>1.101480e+05</td>\n",
       "      <td>1.101480e+05</td>\n",
       "      <td>1.101480e+05</td>\n",
       "    </tr>\n",
       "    <tr>\n",
       "      <th>mean</th>\n",
       "      <td>-1.173637e-16</td>\n",
       "      <td>1.004110e-15</td>\n",
       "      <td>-3.789093e-15</td>\n",
       "      <td>-4.903485e-16</td>\n",
       "      <td>3.587481e-16</td>\n",
       "      <td>-2.509444e-15</td>\n",
       "      <td>7.210120e-16</td>\n",
       "      <td>1.100831e-15</td>\n",
       "    </tr>\n",
       "    <tr>\n",
       "      <th>std</th>\n",
       "      <td>1.000005e+00</td>\n",
       "      <td>1.000005e+00</td>\n",
       "      <td>1.000005e+00</td>\n",
       "      <td>1.000005e+00</td>\n",
       "      <td>1.000005e+00</td>\n",
       "      <td>1.000005e+00</td>\n",
       "      <td>1.000005e+00</td>\n",
       "      <td>1.000005e+00</td>\n",
       "    </tr>\n",
       "    <tr>\n",
       "      <th>min</th>\n",
       "      <td>-1.564737e+00</td>\n",
       "      <td>-1.976836e+00</td>\n",
       "      <td>-4.188152e-01</td>\n",
       "      <td>-3.444269e+00</td>\n",
       "      <td>-1.334144e+00</td>\n",
       "      <td>-2.812764e+00</td>\n",
       "      <td>-4.933787e+00</td>\n",
       "      <td>-9.824902e+00</td>\n",
       "    </tr>\n",
       "    <tr>\n",
       "      <th>25%</th>\n",
       "      <td>-6.173676e-01</td>\n",
       "      <td>-7.737452e-01</td>\n",
       "      <td>-4.188152e-01</td>\n",
       "      <td>-7.126592e-01</td>\n",
       "      <td>-1.334144e+00</td>\n",
       "      <td>-5.167044e-01</td>\n",
       "      <td>-6.348458e-01</td>\n",
       "      <td>-4.581614e-01</td>\n",
       "    </tr>\n",
       "    <tr>\n",
       "      <th>50%</th>\n",
       "      <td>3.207140e-01</td>\n",
       "      <td>-5.949589e-02</td>\n",
       "      <td>-4.188152e-01</td>\n",
       "      <td>-3.261521e-02</td>\n",
       "      <td>-2.817904e-01</td>\n",
       "      <td>-5.167044e-01</td>\n",
       "      <td>-5.283405e-02</td>\n",
       "      <td>3.506224e-01</td>\n",
       "    </tr>\n",
       "    <tr>\n",
       "      <th>75%</th>\n",
       "      <td>5.714883e-01</td>\n",
       "      <td>8.323877e-01</td>\n",
       "      <td>-4.188152e-01</td>\n",
       "      <td>6.741092e-01</td>\n",
       "      <td>7.705631e-01</td>\n",
       "      <td>2.486488e-01</td>\n",
       "      <td>6.218273e-01</td>\n",
       "      <td>6.658192e-01</td>\n",
       "    </tr>\n",
       "    <tr>\n",
       "      <th>max</th>\n",
       "      <td>1.490994e+00</td>\n",
       "      <td>2.230861e+00</td>\n",
       "      <td>9.340604e+00</td>\n",
       "      <td>4.213712e+00</td>\n",
       "      <td>4.722032e+00</td>\n",
       "      <td>1.779355e+00</td>\n",
       "      <td>4.980702e+00</td>\n",
       "      <td>1.497070e+00</td>\n",
       "    </tr>\n",
       "  </tbody>\n",
       "</table>\n",
       "</div>"
      ],
      "text/plain": [
       "           app_date           age  decline_app_cnt     score_bki  \\\n",
       "count  1.101480e+05  1.101480e+05     1.101480e+05  1.101480e+05   \n",
       "mean  -1.173637e-16  1.004110e-15    -3.789093e-15 -4.903485e-16   \n",
       "std    1.000005e+00  1.000005e+00     1.000005e+00  1.000005e+00   \n",
       "min   -1.564737e+00 -1.976836e+00    -4.188152e-01 -3.444269e+00   \n",
       "25%   -6.173676e-01 -7.737452e-01    -4.188152e-01 -7.126592e-01   \n",
       "50%    3.207140e-01 -5.949589e-02    -4.188152e-01 -3.261521e-02   \n",
       "75%    5.714883e-01  8.323877e-01    -4.188152e-01  6.741092e-01   \n",
       "max    1.490994e+00  2.230861e+00     9.340604e+00  4.213712e+00   \n",
       "\n",
       "       bki_request_cnt  region_rating        income  apps_per_day  \n",
       "count     1.101480e+05   1.101480e+05  1.101480e+05  1.101480e+05  \n",
       "mean      3.587481e-16  -2.509444e-15  7.210120e-16  1.100831e-15  \n",
       "std       1.000005e+00   1.000005e+00  1.000005e+00  1.000005e+00  \n",
       "min      -1.334144e+00  -2.812764e+00 -4.933787e+00 -9.824902e+00  \n",
       "25%      -1.334144e+00  -5.167044e-01 -6.348458e-01 -4.581614e-01  \n",
       "50%      -2.817904e-01  -5.167044e-01 -5.283405e-02  3.506224e-01  \n",
       "75%       7.705631e-01   2.486488e-01  6.218273e-01  6.658192e-01  \n",
       "max       4.722032e+00   1.779355e+00  4.980702e+00  1.497070e+00  "
      ]
     },
     "execution_count": 26,
     "metadata": {},
     "output_type": "execute_result"
    }
   ],
   "source": [
    "#Стандартизация\n",
    "sscaler = StandardScaler()\n",
    "df[num_cols] = pd.DataFrame(sscaler.fit_transform(df[num_cols]),columns=num_cols)\n",
    "df[num_cols].describe()"
   ]
  },
  {
   "cell_type": "code",
   "execution_count": 27,
   "metadata": {},
   "outputs": [
    {
     "data": {
      "text/plain": [
       "<matplotlib.axes._subplots.AxesSubplot at 0x2be203ab148>"
      ]
     },
     "execution_count": 27,
     "metadata": {},
     "output_type": "execute_result"
    },
    {
     "data": {
      "image/png": "[encoded data removed]",
      "text/plain": [
       "<Figure size 432x288 with 1 Axes>"
      ]
     },
     "metadata": {
      "needs_background": "light"
     },
     "output_type": "display_data"
    }
   ],
   "source": [
    "#Оценка значимости числовых признаков\n",
    "imp_num = pd.Series(f_classif(df[df.is_test==0][num_cols], df[df.is_test==0]['default'])[0], index = num_cols)\n",
    "imp_num.sort_values(inplace = True)\n",
    "imp_num.plot(kind = 'barh', color = 'grey')"
   ]
  },
  {
   "cell_type": "markdown",
   "metadata": {},
   "source": [
    "Скоринговый балл по данным из БКИ является наиболее значимым."
   ]
  },
  {
   "cell_type": "markdown",
   "metadata": {},
   "source": [
    "#### Бинарные признаки"
   ]
  },
  {
   "cell_type": "code",
   "execution_count": 28,
   "metadata": {},
   "outputs": [],
   "source": [
    "#Преобразование в числа\n",
    "label_encoder = LabelEncoder()\n",
    "\n",
    "for i in bin_cols:\n",
    "    df[i] = label_encoder.fit_transform(df[i])  "
   ]
  },
  {
   "cell_type": "code",
   "execution_count": 29,
   "metadata": {},
   "outputs": [
    {
     "data": {
      "text/html": [
       "<div>\n",
       "<style scoped>\n",
       "    .dataframe tbody tr th:only-of-type {\n",
       "        vertical-align: middle;\n",
       "    }\n",
       "\n",
       "    .dataframe tbody tr th {\n",
       "        vertical-align: top;\n",
       "    }\n",
       "\n",
       "    .dataframe thead th {\n",
       "        text-align: right;\n",
       "    }\n",
       "</style>\n",
       "<table border=\"1\" class=\"dataframe\">\n",
       "  <thead>\n",
       "    <tr style=\"text-align: right;\">\n",
       "      <th></th>\n",
       "      <th>sex</th>\n",
       "      <th>car</th>\n",
       "      <th>car_type</th>\n",
       "      <th>good_work</th>\n",
       "      <th>foreign_passport</th>\n",
       "    </tr>\n",
       "  </thead>\n",
       "  <tbody>\n",
       "    <tr>\n",
       "      <th>count</th>\n",
       "      <td>110148.000000</td>\n",
       "      <td>110148.000000</td>\n",
       "      <td>110148.000000</td>\n",
       "      <td>110148.000000</td>\n",
       "      <td>110148.000000</td>\n",
       "    </tr>\n",
       "    <tr>\n",
       "      <th>mean</th>\n",
       "      <td>0.438610</td>\n",
       "      <td>0.325544</td>\n",
       "      <td>0.190725</td>\n",
       "      <td>0.165514</td>\n",
       "      <td>0.149136</td>\n",
       "    </tr>\n",
       "    <tr>\n",
       "      <th>std</th>\n",
       "      <td>0.496219</td>\n",
       "      <td>0.468580</td>\n",
       "      <td>0.392875</td>\n",
       "      <td>0.371645</td>\n",
       "      <td>0.356224</td>\n",
       "    </tr>\n",
       "    <tr>\n",
       "      <th>min</th>\n",
       "      <td>0.000000</td>\n",
       "      <td>0.000000</td>\n",
       "      <td>0.000000</td>\n",
       "      <td>0.000000</td>\n",
       "      <td>0.000000</td>\n",
       "    </tr>\n",
       "    <tr>\n",
       "      <th>25%</th>\n",
       "      <td>0.000000</td>\n",
       "      <td>0.000000</td>\n",
       "      <td>0.000000</td>\n",
       "      <td>0.000000</td>\n",
       "      <td>0.000000</td>\n",
       "    </tr>\n",
       "    <tr>\n",
       "      <th>50%</th>\n",
       "      <td>0.000000</td>\n",
       "      <td>0.000000</td>\n",
       "      <td>0.000000</td>\n",
       "      <td>0.000000</td>\n",
       "      <td>0.000000</td>\n",
       "    </tr>\n",
       "    <tr>\n",
       "      <th>75%</th>\n",
       "      <td>1.000000</td>\n",
       "      <td>1.000000</td>\n",
       "      <td>0.000000</td>\n",
       "      <td>0.000000</td>\n",
       "      <td>0.000000</td>\n",
       "    </tr>\n",
       "    <tr>\n",
       "      <th>max</th>\n",
       "      <td>1.000000</td>\n",
       "      <td>1.000000</td>\n",
       "      <td>1.000000</td>\n",
       "      <td>1.000000</td>\n",
       "      <td>1.000000</td>\n",
       "    </tr>\n",
       "  </tbody>\n",
       "</table>\n",
       "</div>"
      ],
      "text/plain": [
       "                 sex            car       car_type      good_work  \\\n",
       "count  110148.000000  110148.000000  110148.000000  110148.000000   \n",
       "mean        0.438610       0.325544       0.190725       0.165514   \n",
       "std         0.496219       0.468580       0.392875       0.371645   \n",
       "min         0.000000       0.000000       0.000000       0.000000   \n",
       "25%         0.000000       0.000000       0.000000       0.000000   \n",
       "50%         0.000000       0.000000       0.000000       0.000000   \n",
       "75%         1.000000       1.000000       0.000000       0.000000   \n",
       "max         1.000000       1.000000       1.000000       1.000000   \n",
       "\n",
       "       foreign_passport  \n",
       "count     110148.000000  \n",
       "mean           0.149136  \n",
       "std            0.356224  \n",
       "min            0.000000  \n",
       "25%            0.000000  \n",
       "50%            0.000000  \n",
       "75%            0.000000  \n",
       "max            1.000000  "
      ]
     },
     "execution_count": 29,
     "metadata": {},
     "output_type": "execute_result"
    }
   ],
   "source": [
    "df[bin_cols].describe()"
   ]
  },
  {
   "cell_type": "code",
   "execution_count": 30,
   "metadata": {},
   "outputs": [],
   "source": [
    "#Стандартизация\n",
    "df[bin_cols] = pd.DataFrame(sscaler.fit_transform(df[bin_cols]),columns=bin_cols)"
   ]
  },
  {
   "cell_type": "code",
   "execution_count": 31,
   "metadata": {},
   "outputs": [
    {
     "data": {
      "text/plain": [
       "<matplotlib.axes._subplots.AxesSubplot at 0x2be2072bbc8>"
      ]
     },
     "execution_count": 31,
     "metadata": {},
     "output_type": "execute_result"
    },
    {
     "data": {
      "image/png": "[encoded data removed]",
      "text/plain": [
       "<Figure size 432x288 with 1 Axes>"
      ]
     },
     "metadata": {
      "needs_background": "light"
     },
     "output_type": "display_data"
    }
   ],
   "source": [
    "#Оценка значимости\n",
    "imp_cat = pd.Series(mutual_info_classif(df[df.is_test == 0][bin_cols], df[df.is_test == 0]['default'],\n",
    "                                        discrete_features=True), index=bin_cols)\n",
    "imp_cat.sort_values(inplace=True)\n",
    "imp_cat.plot(kind='barh', color = 'red')"
   ]
  },
  {
   "cell_type": "markdown",
   "metadata": {},
   "source": [
    "Наличие загранпаспорта является наиболее значимым признаком."
   ]
  },
  {
   "cell_type": "code",
   "execution_count": 32,
   "metadata": {},
   "outputs": [
    {
     "name": "stdout",
     "output_type": "stream",
     "text": [
      "<class 'pandas.core.frame.DataFrame'>\n",
      "RangeIndex: 110148 entries, 0 to 110147\n",
      "Data columns (total 42 columns):\n",
      " #   Column            Non-Null Count   Dtype  \n",
      "---  ------            --------------   -----  \n",
      " 0   client_id         110148 non-null  int64  \n",
      " 1   app_date          110148 non-null  float64\n",
      " 2   sex               110148 non-null  float64\n",
      " 3   age               110148 non-null  float64\n",
      " 4   car               110148 non-null  float64\n",
      " 5   car_type          110148 non-null  float64\n",
      " 6   decline_app_cnt   110148 non-null  float64\n",
      " 7   good_work         110148 non-null  float64\n",
      " 8   score_bki         110148 non-null  float64\n",
      " 9   bki_request_cnt   110148 non-null  float64\n",
      " 10  region_rating     110148 non-null  float64\n",
      " 11  income            110148 non-null  float64\n",
      " 12  foreign_passport  110148 non-null  float64\n",
      " 13  default           73799 non-null   float64\n",
      " 14  is_test           110148 non-null  int64  \n",
      " 15  apps_per_day      110148 non-null  float64\n",
      " 16  education_ACD     110148 non-null  uint8  \n",
      " 17  education_GRD     110148 non-null  uint8  \n",
      " 18  education_PGR     110148 non-null  uint8  \n",
      " 19  education_SCH     110148 non-null  uint8  \n",
      " 20  education_UGR     110148 non-null  uint8  \n",
      " 21  home_address_1    110148 non-null  uint8  \n",
      " 22  home_address_2    110148 non-null  uint8  \n",
      " 23  home_address_3    110148 non-null  uint8  \n",
      " 24  work_address_1    110148 non-null  uint8  \n",
      " 25  work_address_2    110148 non-null  uint8  \n",
      " 26  work_address_3    110148 non-null  uint8  \n",
      " 27  sna_1             110148 non-null  uint8  \n",
      " 28  sna_2             110148 non-null  uint8  \n",
      " 29  sna_3             110148 non-null  uint8  \n",
      " 30  sna_4             110148 non-null  uint8  \n",
      " 31  first_time_1      110148 non-null  uint8  \n",
      " 32  first_time_2      110148 non-null  uint8  \n",
      " 33  first_time_3      110148 non-null  uint8  \n",
      " 34  first_time_4      110148 non-null  uint8  \n",
      " 35  app_weekday_0     110148 non-null  uint8  \n",
      " 36  app_weekday_1     110148 non-null  uint8  \n",
      " 37  app_weekday_2     110148 non-null  uint8  \n",
      " 38  app_weekday_3     110148 non-null  uint8  \n",
      " 39  app_weekday_4     110148 non-null  uint8  \n",
      " 40  app_weekday_5     110148 non-null  uint8  \n",
      " 41  app_weekday_6     110148 non-null  uint8  \n",
      "dtypes: float64(14), int64(2), uint8(26)\n",
      "memory usage: 16.2 MB\n"
     ]
    }
   ],
   "source": [
    "#Преобразование категориальных признаков в dummies\n",
    "df_dummies = pd.get_dummies(df[cat_cols].astype('object'))\n",
    "dummy_cols = df_dummies.columns\n",
    "df = pd.concat([df, df_dummies], axis=1)\n",
    "df.drop(columns=cat_cols, inplace=True)\n",
    "df.info()"
   ]
  },
  {
   "cell_type": "code",
   "execution_count": 33,
   "metadata": {},
   "outputs": [],
   "source": [
    "cat_cols=dummy_cols"
   ]
  },
  {
   "cell_type": "markdown",
   "metadata": {},
   "source": [
    "### Модель"
   ]
  },
  {
   "cell_type": "code",
   "execution_count": 34,
   "metadata": {},
   "outputs": [
    {
     "data": {
      "text/plain": [
       "LogisticRegression(C=1.0, class_weight=None, dual=False, fit_intercept=True,\n",
       "                   intercept_scaling=1, l1_ratio=None, max_iter=1000,\n",
       "                   multi_class='auto', n_jobs=None, penalty='l2',\n",
       "                   random_state=13, solver='lbfgs', tol=0.0001, verbose=0,\n",
       "                   warm_start=False)"
      ]
     },
     "execution_count": 34,
     "metadata": {},
     "output_type": "execute_result"
    }
   ],
   "source": [
    "x = df[df.is_test == 0].drop(columns=['client_id','default']) #удаление ID\n",
    "y = df[df.is_test == 0]['default'] #целевая переменная\n",
    "x_pred = df[df.is_test == 1].drop(columns=['client_id','default'])\n",
    "x_train, x_test, y_train, y_test = train_test_split(x, y, test_size=0.20, random_state=13)\n",
    "\n",
    "#Модель - логистическая регрессия\n",
    "model = LogisticRegression(random_state=13, max_iter=1000, solver='lbfgs')\n",
    "model.fit(x_train, y_train)"
   ]
  },
  {
   "cell_type": "code",
   "execution_count": 35,
   "metadata": {},
   "outputs": [],
   "source": [
    "probs = model.predict_proba(x_test)\n",
    "probs = probs[:, 1]"
   ]
  },
  {
   "cell_type": "markdown",
   "metadata": {},
   "source": [
    "#### Оценка качества модели"
   ]
  },
  {
   "cell_type": "code",
   "execution_count": 36,
   "metadata": {},
   "outputs": [
    {
     "data": {
      "image/png": "[encoded data removed]",
      "text/plain": [
       "<Figure size 432x288 with 1 Axes>"
      ]
     },
     "metadata": {
      "needs_background": "light"
     },
     "output_type": "display_data"
    }
   ],
   "source": [
    "fpr, tpr, threshold = roc_curve(y_test, probs)\n",
    "roc_auc = roc_auc_score(y_test, probs)\n",
    "\n",
    "plt.figure()\n",
    "plt.plot([0, 1], label='Baseline', linestyle='--')\n",
    "plt.plot(fpr, tpr, label='Regression')\n",
    "plt.title('Logistic Regression ROC AUC = %0.5f' % roc_auc)\n",
    "plt.ylabel('True Positive Rate')\n",
    "plt.xlabel('False Positive Rate')\n",
    "plt.legend(loc='lower right')\n",
    "plt.show()"
   ]
  },
  {
   "cell_type": "markdown",
   "metadata": {},
   "source": [
    "#### Промежуточный результат: 0.737"
   ]
  },
  {
   "cell_type": "markdown",
   "metadata": {},
   "source": [
    "### Регуляризация"
   ]
  },
  {
   "cell_type": "code",
   "execution_count": 37,
   "metadata": {},
   "outputs": [
    {
     "data": {
      "text/plain": [
       "array([  1.        ,   1.27427499,   1.62377674,   2.06913808,\n",
       "         2.6366509 ,   3.35981829,   4.2813324 ,   5.45559478,\n",
       "         6.95192796,   8.8586679 ,  11.28837892,  14.38449888,\n",
       "        18.32980711,  23.35721469,  29.76351442,  37.92690191,\n",
       "        48.32930239,  61.58482111,  78.47599704, 100.        ])"
      ]
     },
     "execution_count": 37,
     "metadata": {},
     "output_type": "execute_result"
    }
   ],
   "source": [
    "#Тип регуляризации\n",
    "penalty = ['l2']\n",
    "\n",
    "#Ограничения параметра регуляризации\n",
    "C = np.logspace(0, 2, 20)\n",
    "C"
   ]
  },
  {
   "cell_type": "code",
   "execution_count": 38,
   "metadata": {},
   "outputs": [
    {
     "name": "stdout",
     "output_type": "stream",
     "text": [
      "Лучшее Penalty: l2\n",
      "Лучшее C: 29.76351441631318\n"
     ]
    }
   ],
   "source": [
    "#Гиперпараметры\n",
    "hyperparameters = dict(C=C, penalty=penalty)\n",
    "\n",
    "#Сетка поиска с использованием 5-кратной перекрестной проверки\n",
    "model = LogisticRegression(random_state=13, max_iter=1000, solver='lbfgs')\n",
    "clf = GridSearchCV(model, hyperparameters, cv=5, verbose=0)\n",
    "\n",
    "best_model = clf.fit(x_train, y_train)\n",
    "\n",
    "#Просмотр лучших гиперпараметров\n",
    "print('Лучшее Penalty:', best_model.best_estimator_.get_params()['penalty'])\n",
    "print('Лучшее C:', best_model.best_estimator_.get_params()['C'])"
   ]
  },
  {
   "cell_type": "code",
   "execution_count": 39,
   "metadata": {},
   "outputs": [
    {
     "data": {
      "text/plain": [
       "LogisticRegression(C=29.76351441631318, class_weight=None, dual=False,\n",
       "                   fit_intercept=True, intercept_scaling=1, l1_ratio=None,\n",
       "                   max_iter=1000, multi_class='auto', n_jobs=None, penalty='l2',\n",
       "                   random_state=13, solver='lbfgs', tol=0.0001, verbose=0,\n",
       "                   warm_start=False)"
      ]
     },
     "execution_count": 39,
     "metadata": {},
     "output_type": "execute_result"
    }
   ],
   "source": [
    "p = best_model.best_estimator_.get_params()['penalty']\n",
    "c = best_model.best_estimator_.get_params()['C']\n",
    "\n",
    "model = LogisticRegression(penalty=p,C=c, random_state=13, max_iter=1000, solver='lbfgs')\n",
    "\n",
    "model.fit(x_train, y_train)"
   ]
  },
  {
   "cell_type": "code",
   "execution_count": 40,
   "metadata": {},
   "outputs": [],
   "source": [
    "probs = model.predict_proba(x_test)\n",
    "probs = probs[:, 1]"
   ]
  },
  {
   "cell_type": "code",
   "execution_count": 41,
   "metadata": {},
   "outputs": [
    {
     "data": {
      "image/png": "[encoded data removed]",
      "text/plain": [
       "<Figure size 432x288 with 1 Axes>"
      ]
     },
     "metadata": {
      "needs_background": "light"
     },
     "output_type": "display_data"
    }
   ],
   "source": [
    "fpr, tpr, threshold = roc_curve(y_test, probs)\n",
    "roc_auc = roc_auc_score(y_test, probs)\n",
    "\n",
    "plt.figure()\n",
    "plt.plot([0, 1], label='Baseline', linestyle='--')\n",
    "plt.plot(fpr, tpr, label='Regression')\n",
    "plt.title('Logistic Regression ROC AUC = %0.5f' % roc_auc)\n",
    "plt.ylabel('True Positive Rate')\n",
    "plt.xlabel('False Positive Rate')\n",
    "plt.legend(loc='lower right')\n",
    "plt.show()"
   ]
  },
  {
   "cell_type": "markdown",
   "metadata": {},
   "source": [
    "Регуляризация не привела к видимому улучшению качества модели."
   ]
  },
  {
   "cell_type": "markdown",
   "metadata": {},
   "source": [
    "### Результат"
   ]
  },
  {
   "cell_type": "code",
   "execution_count": 42,
   "metadata": {},
   "outputs": [],
   "source": [
    "y_pred = model.predict(x_pred)\n",
    "y_pred_proba = model.predict_proba(x_pred)"
   ]
  },
  {
   "cell_type": "code",
   "execution_count": 43,
   "metadata": {},
   "outputs": [
    {
     "data": {
      "text/html": [
       "<div>\n",
       "<style scoped>\n",
       "    .dataframe tbody tr th:only-of-type {\n",
       "        vertical-align: middle;\n",
       "    }\n",
       "\n",
       "    .dataframe tbody tr th {\n",
       "        vertical-align: top;\n",
       "    }\n",
       "\n",
       "    .dataframe thead th {\n",
       "        text-align: right;\n",
       "    }\n",
       "</style>\n",
       "<table border=\"1\" class=\"dataframe\">\n",
       "  <thead>\n",
       "    <tr style=\"text-align: right;\">\n",
       "      <th></th>\n",
       "      <th>app_date</th>\n",
       "      <th>sex</th>\n",
       "      <th>age</th>\n",
       "      <th>car</th>\n",
       "      <th>car_type</th>\n",
       "      <th>decline_app_cnt</th>\n",
       "      <th>good_work</th>\n",
       "      <th>score_bki</th>\n",
       "      <th>bki_request_cnt</th>\n",
       "      <th>region_rating</th>\n",
       "      <th>...</th>\n",
       "      <th>first_time_2</th>\n",
       "      <th>first_time_3</th>\n",
       "      <th>first_time_4</th>\n",
       "      <th>app_weekday_0</th>\n",
       "      <th>app_weekday_1</th>\n",
       "      <th>app_weekday_2</th>\n",
       "      <th>app_weekday_3</th>\n",
       "      <th>app_weekday_4</th>\n",
       "      <th>app_weekday_5</th>\n",
       "      <th>app_weekday_6</th>\n",
       "    </tr>\n",
       "  </thead>\n",
       "  <tbody>\n",
       "    <tr>\n",
       "      <th>73799</th>\n",
       "      <td>0.487897</td>\n",
       "      <td>1.131340</td>\n",
       "      <td>-0.888776</td>\n",
       "      <td>1.439369</td>\n",
       "      <td>2.059890</td>\n",
       "      <td>-0.418815</td>\n",
       "      <td>-0.445356</td>\n",
       "      <td>-0.735587</td>\n",
       "      <td>0.770563</td>\n",
       "      <td>-0.516704</td>\n",
       "      <td>...</td>\n",
       "      <td>0</td>\n",
       "      <td>0</td>\n",
       "      <td>1</td>\n",
       "      <td>0</td>\n",
       "      <td>0</td>\n",
       "      <td>0</td>\n",
       "      <td>0</td>\n",
       "      <td>0</td>\n",
       "      <td>1</td>\n",
       "      <td>0</td>\n",
       "    </tr>\n",
       "    <tr>\n",
       "      <th>73800</th>\n",
       "      <td>-1.351115</td>\n",
       "      <td>-0.883907</td>\n",
       "      <td>0.120447</td>\n",
       "      <td>-0.694749</td>\n",
       "      <td>-0.485463</td>\n",
       "      <td>4.539989</td>\n",
       "      <td>-0.445356</td>\n",
       "      <td>0.800039</td>\n",
       "      <td>0.333797</td>\n",
       "      <td>-0.516704</td>\n",
       "      <td>...</td>\n",
       "      <td>0</td>\n",
       "      <td>1</td>\n",
       "      <td>0</td>\n",
       "      <td>0</td>\n",
       "      <td>0</td>\n",
       "      <td>0</td>\n",
       "      <td>0</td>\n",
       "      <td>1</td>\n",
       "      <td>0</td>\n",
       "      <td>0</td>\n",
       "    </tr>\n",
       "    <tr>\n",
       "      <th>73801</th>\n",
       "      <td>0.497185</td>\n",
       "      <td>1.131340</td>\n",
       "      <td>0.972731</td>\n",
       "      <td>1.439369</td>\n",
       "      <td>2.059890</td>\n",
       "      <td>-0.418815</td>\n",
       "      <td>-0.445356</td>\n",
       "      <td>0.426908</td>\n",
       "      <td>-0.281790</td>\n",
       "      <td>-0.516704</td>\n",
       "      <td>...</td>\n",
       "      <td>0</td>\n",
       "      <td>1</td>\n",
       "      <td>0</td>\n",
       "      <td>0</td>\n",
       "      <td>0</td>\n",
       "      <td>0</td>\n",
       "      <td>0</td>\n",
       "      <td>0</td>\n",
       "      <td>0</td>\n",
       "      <td>1</td>\n",
       "    </tr>\n",
       "    <tr>\n",
       "      <th>73802</th>\n",
       "      <td>-0.617368</td>\n",
       "      <td>1.131340</td>\n",
       "      <td>1.362924</td>\n",
       "      <td>-0.694749</td>\n",
       "      <td>-0.485463</td>\n",
       "      <td>-0.418815</td>\n",
       "      <td>-0.445356</td>\n",
       "      <td>-0.940432</td>\n",
       "      <td>-0.281790</td>\n",
       "      <td>-1.282058</td>\n",
       "      <td>...</td>\n",
       "      <td>0</td>\n",
       "      <td>1</td>\n",
       "      <td>0</td>\n",
       "      <td>1</td>\n",
       "      <td>0</td>\n",
       "      <td>0</td>\n",
       "      <td>0</td>\n",
       "      <td>0</td>\n",
       "      <td>0</td>\n",
       "      <td>0</td>\n",
       "    </tr>\n",
       "    <tr>\n",
       "      <th>73803</th>\n",
       "      <td>-0.608080</td>\n",
       "      <td>-0.883907</td>\n",
       "      <td>0.031629</td>\n",
       "      <td>-0.694749</td>\n",
       "      <td>-0.485463</td>\n",
       "      <td>-0.418815</td>\n",
       "      <td>-0.445356</td>\n",
       "      <td>-1.167347</td>\n",
       "      <td>-1.334144</td>\n",
       "      <td>1.779355</td>\n",
       "      <td>...</td>\n",
       "      <td>0</td>\n",
       "      <td>1</td>\n",
       "      <td>0</td>\n",
       "      <td>0</td>\n",
       "      <td>1</td>\n",
       "      <td>0</td>\n",
       "      <td>0</td>\n",
       "      <td>0</td>\n",
       "      <td>0</td>\n",
       "      <td>0</td>\n",
       "    </tr>\n",
       "    <tr>\n",
       "      <th>...</th>\n",
       "      <td>...</td>\n",
       "      <td>...</td>\n",
       "      <td>...</td>\n",
       "      <td>...</td>\n",
       "      <td>...</td>\n",
       "      <td>...</td>\n",
       "      <td>...</td>\n",
       "      <td>...</td>\n",
       "      <td>...</td>\n",
       "      <td>...</td>\n",
       "      <td>...</td>\n",
       "      <td>...</td>\n",
       "      <td>...</td>\n",
       "      <td>...</td>\n",
       "      <td>...</td>\n",
       "      <td>...</td>\n",
       "      <td>...</td>\n",
       "      <td>...</td>\n",
       "      <td>...</td>\n",
       "      <td>...</td>\n",
       "      <td>...</td>\n",
       "    </tr>\n",
       "    <tr>\n",
       "      <th>110143</th>\n",
       "      <td>0.571488</td>\n",
       "      <td>-0.883907</td>\n",
       "      <td>-0.059496</td>\n",
       "      <td>-0.694749</td>\n",
       "      <td>-0.485463</td>\n",
       "      <td>1.499512</td>\n",
       "      <td>-0.445356</td>\n",
       "      <td>0.319505</td>\n",
       "      <td>0.770563</td>\n",
       "      <td>-0.516704</td>\n",
       "      <td>...</td>\n",
       "      <td>0</td>\n",
       "      <td>0</td>\n",
       "      <td>0</td>\n",
       "      <td>1</td>\n",
       "      <td>0</td>\n",
       "      <td>0</td>\n",
       "      <td>0</td>\n",
       "      <td>0</td>\n",
       "      <td>0</td>\n",
       "      <td>0</td>\n",
       "    </tr>\n",
       "    <tr>\n",
       "      <th>110144</th>\n",
       "      <td>1.444554</td>\n",
       "      <td>-0.883907</td>\n",
       "      <td>1.823666</td>\n",
       "      <td>1.439369</td>\n",
       "      <td>2.059890</td>\n",
       "      <td>-0.418815</td>\n",
       "      <td>-0.445356</td>\n",
       "      <td>-0.779436</td>\n",
       "      <td>0.770563</td>\n",
       "      <td>0.248649</td>\n",
       "      <td>...</td>\n",
       "      <td>0</td>\n",
       "      <td>0</td>\n",
       "      <td>1</td>\n",
       "      <td>0</td>\n",
       "      <td>0</td>\n",
       "      <td>0</td>\n",
       "      <td>0</td>\n",
       "      <td>1</td>\n",
       "      <td>0</td>\n",
       "      <td>0</td>\n",
       "    </tr>\n",
       "    <tr>\n",
       "      <th>110145</th>\n",
       "      <td>0.562200</td>\n",
       "      <td>1.131340</td>\n",
       "      <td>-0.662367</td>\n",
       "      <td>-0.694749</td>\n",
       "      <td>-0.485463</td>\n",
       "      <td>2.621662</td>\n",
       "      <td>-0.445356</td>\n",
       "      <td>1.929901</td>\n",
       "      <td>-0.281790</td>\n",
       "      <td>-0.516704</td>\n",
       "      <td>...</td>\n",
       "      <td>1</td>\n",
       "      <td>0</td>\n",
       "      <td>0</td>\n",
       "      <td>0</td>\n",
       "      <td>0</td>\n",
       "      <td>0</td>\n",
       "      <td>0</td>\n",
       "      <td>0</td>\n",
       "      <td>0</td>\n",
       "      <td>1</td>\n",
       "    </tr>\n",
       "    <tr>\n",
       "      <th>110146</th>\n",
       "      <td>-1.509010</td>\n",
       "      <td>-0.883907</td>\n",
       "      <td>-1.130811</td>\n",
       "      <td>-0.694749</td>\n",
       "      <td>-0.485463</td>\n",
       "      <td>1.499512</td>\n",
       "      <td>-0.445356</td>\n",
       "      <td>1.325890</td>\n",
       "      <td>0.333797</td>\n",
       "      <td>1.779355</td>\n",
       "      <td>...</td>\n",
       "      <td>0</td>\n",
       "      <td>0</td>\n",
       "      <td>0</td>\n",
       "      <td>0</td>\n",
       "      <td>1</td>\n",
       "      <td>0</td>\n",
       "      <td>0</td>\n",
       "      <td>0</td>\n",
       "      <td>0</td>\n",
       "      <td>0</td>\n",
       "    </tr>\n",
       "    <tr>\n",
       "      <th>110147</th>\n",
       "      <td>0.441457</td>\n",
       "      <td>1.131340</td>\n",
       "      <td>0.031629</td>\n",
       "      <td>-0.694749</td>\n",
       "      <td>-0.485463</td>\n",
       "      <td>-0.418815</td>\n",
       "      <td>-0.445356</td>\n",
       "      <td>0.794933</td>\n",
       "      <td>0.333797</td>\n",
       "      <td>-0.516704</td>\n",
       "      <td>...</td>\n",
       "      <td>1</td>\n",
       "      <td>0</td>\n",
       "      <td>0</td>\n",
       "      <td>1</td>\n",
       "      <td>0</td>\n",
       "      <td>0</td>\n",
       "      <td>0</td>\n",
       "      <td>0</td>\n",
       "      <td>0</td>\n",
       "      <td>0</td>\n",
       "    </tr>\n",
       "  </tbody>\n",
       "</table>\n",
       "<p>36349 rows × 40 columns</p>\n",
       "</div>"
      ],
      "text/plain": [
       "        app_date       sex       age       car  car_type  decline_app_cnt  \\\n",
       "73799   0.487897  1.131340 -0.888776  1.439369  2.059890        -0.418815   \n",
       "73800  -1.351115 -0.883907  0.120447 -0.694749 -0.485463         4.539989   \n",
       "73801   0.497185  1.131340  0.972731  1.439369  2.059890        -0.418815   \n",
       "73802  -0.617368  1.131340  1.362924 -0.694749 -0.485463        -0.418815   \n",
       "73803  -0.608080 -0.883907  0.031629 -0.694749 -0.485463        -0.418815   \n",
       "...          ...       ...       ...       ...       ...              ...   \n",
       "110143  0.571488 -0.883907 -0.059496 -0.694749 -0.485463         1.499512   \n",
       "110144  1.444554 -0.883907  1.823666  1.439369  2.059890        -0.418815   \n",
       "110145  0.562200  1.131340 -0.662367 -0.694749 -0.485463         2.621662   \n",
       "110146 -1.509010 -0.883907 -1.130811 -0.694749 -0.485463         1.499512   \n",
       "110147  0.441457  1.131340  0.031629 -0.694749 -0.485463        -0.418815   \n",
       "\n",
       "        good_work  score_bki  bki_request_cnt  region_rating  ...  \\\n",
       "73799   -0.445356  -0.735587         0.770563      -0.516704  ...   \n",
       "73800   -0.445356   0.800039         0.333797      -0.516704  ...   \n",
       "73801   -0.445356   0.426908        -0.281790      -0.516704  ...   \n",
       "73802   -0.445356  -0.940432        -0.281790      -1.282058  ...   \n",
       "73803   -0.445356  -1.167347        -1.334144       1.779355  ...   \n",
       "...           ...        ...              ...            ...  ...   \n",
       "110143  -0.445356   0.319505         0.770563      -0.516704  ...   \n",
       "110144  -0.445356  -0.779436         0.770563       0.248649  ...   \n",
       "110145  -0.445356   1.929901        -0.281790      -0.516704  ...   \n",
       "110146  -0.445356   1.325890         0.333797       1.779355  ...   \n",
       "110147  -0.445356   0.794933         0.333797      -0.516704  ...   \n",
       "\n",
       "        first_time_2  first_time_3  first_time_4  app_weekday_0  \\\n",
       "73799              0             0             1              0   \n",
       "73800              0             1             0              0   \n",
       "73801              0             1             0              0   \n",
       "73802              0             1             0              1   \n",
       "73803              0             1             0              0   \n",
       "...              ...           ...           ...            ...   \n",
       "110143             0             0             0              1   \n",
       "110144             0             0             1              0   \n",
       "110145             1             0             0              0   \n",
       "110146             0             0             0              0   \n",
       "110147             1             0             0              1   \n",
       "\n",
       "        app_weekday_1  app_weekday_2  app_weekday_3  app_weekday_4  \\\n",
       "73799               0              0              0              0   \n",
       "73800               0              0              0              1   \n",
       "73801               0              0              0              0   \n",
       "73802               0              0              0              0   \n",
       "73803               1              0              0              0   \n",
       "...               ...            ...            ...            ...   \n",
       "110143              0              0              0              0   \n",
       "110144              0              0              0              1   \n",
       "110145              0              0              0              0   \n",
       "110146              1              0              0              0   \n",
       "110147              0              0              0              0   \n",
       "\n",
       "        app_weekday_5  app_weekday_6  \n",
       "73799               1              0  \n",
       "73800               0              0  \n",
       "73801               0              1  \n",
       "73802               0              0  \n",
       "73803               0              0  \n",
       "...               ...            ...  \n",
       "110143              0              0  \n",
       "110144              0              0  \n",
       "110145              0              1  \n",
       "110146              0              0  \n",
       "110147              0              0  \n",
       "\n",
       "[36349 rows x 40 columns]"
      ]
     },
     "execution_count": 43,
     "metadata": {},
     "output_type": "execute_result"
    }
   ],
   "source": [
    "x_pred"
   ]
  },
  {
   "cell_type": "code",
   "execution_count": 44,
   "metadata": {},
   "outputs": [
    {
     "data": {
      "text/plain": [
       "array([0., 0., 0., ..., 0., 0., 0.])"
      ]
     },
     "execution_count": 44,
     "metadata": {},
     "output_type": "execute_result"
    }
   ],
   "source": [
    "y_pred"
   ]
  },
  {
   "cell_type": "code",
   "execution_count": 45,
   "metadata": {},
   "outputs": [
    {
     "data": {
      "text/plain": [
       "array([0.04031021, 0.3430527 , 0.06373181, ..., 0.3465715 , 0.18827028,\n",
       "       0.25849982])"
      ]
     },
     "execution_count": 45,
     "metadata": {},
     "output_type": "execute_result"
    }
   ],
   "source": [
    "y_pred_proba[:,1]"
   ]
  },
  {
   "cell_type": "code",
   "execution_count": 46,
   "metadata": {},
   "outputs": [
    {
     "data": {
      "text/plain": [
       "36349"
      ]
     },
     "execution_count": 46,
     "metadata": {},
     "output_type": "execute_result"
    }
   ],
   "source": [
    "len(y_pred)"
   ]
  },
  {
   "cell_type": "code",
   "execution_count": 47,
   "metadata": {},
   "outputs": [
    {
     "data": {
      "text/html": [
       "<div>\n",
       "<style scoped>\n",
       "    .dataframe tbody tr th:only-of-type {\n",
       "        vertical-align: middle;\n",
       "    }\n",
       "\n",
       "    .dataframe tbody tr th {\n",
       "        vertical-align: top;\n",
       "    }\n",
       "\n",
       "    .dataframe thead th {\n",
       "        text-align: right;\n",
       "    }\n",
       "</style>\n",
       "<table border=\"1\" class=\"dataframe\">\n",
       "  <thead>\n",
       "    <tr style=\"text-align: right;\">\n",
       "      <th></th>\n",
       "      <th>client_id</th>\n",
       "      <th>default</th>\n",
       "    </tr>\n",
       "  </thead>\n",
       "  <tbody>\n",
       "    <tr>\n",
       "      <th>0</th>\n",
       "      <td>74835</td>\n",
       "      <td>0.040310</td>\n",
       "    </tr>\n",
       "    <tr>\n",
       "      <th>1</th>\n",
       "      <td>17527</td>\n",
       "      <td>0.343053</td>\n",
       "    </tr>\n",
       "    <tr>\n",
       "      <th>2</th>\n",
       "      <td>75683</td>\n",
       "      <td>0.063732</td>\n",
       "    </tr>\n",
       "    <tr>\n",
       "      <th>3</th>\n",
       "      <td>26883</td>\n",
       "      <td>0.089831</td>\n",
       "    </tr>\n",
       "    <tr>\n",
       "      <th>4</th>\n",
       "      <td>28862</td>\n",
       "      <td>0.026071</td>\n",
       "    </tr>\n",
       "    <tr>\n",
       "      <th>...</th>\n",
       "      <td>...</td>\n",
       "      <td>...</td>\n",
       "    </tr>\n",
       "    <tr>\n",
       "      <th>36344</th>\n",
       "      <td>83775</td>\n",
       "      <td>0.337663</td>\n",
       "    </tr>\n",
       "    <tr>\n",
       "      <th>36345</th>\n",
       "      <td>106254</td>\n",
       "      <td>0.015793</td>\n",
       "    </tr>\n",
       "    <tr>\n",
       "      <th>36346</th>\n",
       "      <td>81852</td>\n",
       "      <td>0.346572</td>\n",
       "    </tr>\n",
       "    <tr>\n",
       "      <th>36347</th>\n",
       "      <td>1971</td>\n",
       "      <td>0.188270</td>\n",
       "    </tr>\n",
       "    <tr>\n",
       "      <th>36348</th>\n",
       "      <td>69044</td>\n",
       "      <td>0.258500</td>\n",
       "    </tr>\n",
       "  </tbody>\n",
       "</table>\n",
       "<p>36349 rows × 2 columns</p>\n",
       "</div>"
      ],
      "text/plain": [
       "       client_id   default\n",
       "0          74835  0.040310\n",
       "1          17527  0.343053\n",
       "2          75683  0.063732\n",
       "3          26883  0.089831\n",
       "4          28862  0.026071\n",
       "...          ...       ...\n",
       "36344      83775  0.337663\n",
       "36345     106254  0.015793\n",
       "36346      81852  0.346572\n",
       "36347       1971  0.188270\n",
       "36348      69044  0.258500\n",
       "\n",
       "[36349 rows x 2 columns]"
      ]
     },
     "execution_count": 47,
     "metadata": {},
     "output_type": "execute_result"
    }
   ],
   "source": [
    "submission_proba = df_test.client_id.to_frame()\n",
    "submission_proba['default'] = y_pred_proba[:,1]\n",
    "submission_proba"
   ]
  },
  {
   "cell_type": "code",
   "execution_count": 48,
   "metadata": {},
   "outputs": [],
   "source": [
    "submission_proba.to_csv('submission.csv', index = False)"
   ]
  },
  {
   "cell_type": "code",
   "execution_count": null,
   "metadata": {},
   "outputs": [],
   "source": []
  }
 ],
 "metadata": {
  "kernelspec": {
   "display_name": "Python 3",
   "language": "python",
   "name": "python3"
  },
  "language_info": {
   "codemirror_mode": {
    "name": "ipython",
    "version": 3
   },
   "file_extension": ".py",
   "mimetype": "text/x-python",
   "name": "python",
   "nbconvert_exporter": "python",
   "pygments_lexer": "ipython3",
   "version": "3.7.6"
  }
 },
 "nbformat": 4,
 "nbformat_minor": 4
}
